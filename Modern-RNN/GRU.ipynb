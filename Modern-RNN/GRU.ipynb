{
 "cells": [
  {
   "attachments": {
    "image.png": {
     "image/png": "[encoded data removed]"
    }
   },
   "cell_type": "markdown",
   "metadata": {},
   "source": [
    "# GRU \n",
    "\n",
    "gated recurrent unit\n",
    "\n",
    "## 模型说明\n",
    "\n",
    "![image.png](attachment:image.png)\n",
    "\n",
    "### 重置门和更新门\n",
    "\n",
    "用$(0, 1)$之间的变量进行组合\n",
    "\n",
    "重置门(reset):主要决定了到底有多少过去的信息需要遗忘, 1表示该信息需要被记住, 0表示该信息应该被遗忘\n",
    "\n",
    "$$\n",
    "R_t = \\sigma (X_t W_{xr} + H_{t-1} W_{hr} + b_r)\n",
    "$$\n",
    "\n",
    "更新门(update):帮助模型决定到底要将多少过去的信息传递到未来\n",
    "\n",
    "\n",
    "$$\n",
    "Z_t = \\sigma (X_t W_{xz} + H_{t-1} W_{hz} + b_z)\n",
    "$$\n",
    "\n",
    "### 候选隐状态和隐状态\n",
    "\n",
    "$$\n",
    "H^{'}_t = \\tanh(X_t W_{xh}+(R_t \\circ H_{t-1})W_{hh} + b_h)\n",
    "$$\n",
    "\n",
    "$$\n",
    "H_t = Z_t \\circ H_{t-1} + (1 - Z_t) \\circ H^{'}_{t}\n",
    "$$\n"
   ]
  },
  {
   "cell_type": "code",
   "execution_count": null,
   "metadata": {},
   "outputs": [],
   "source": [
    "import torch\n",
    "from torch import nn\n",
    "from d2l import torch as d2l\n",
    "\n",
    "batch_size, num_steps = 32, 35\n",
    "train_iter, vocab = d2l.load_data_time_machine(batch_size, num_steps)"
   ]
  },
  {
   "cell_type": "code",
   "execution_count": 2,
   "metadata": {},
   "outputs": [],
   "source": [
    "def get_params(vocab_size, num_hiddens, device):\n",
    "    num_inputs = num_outputs = vocab_size\n",
    "\n",
    "    def normal(shape):\n",
    "        return torch.randn(size=shape, device=device)*0.01\n",
    "\n",
    "    def three():\n",
    "        return (normal((num_inputs, num_hiddens)),\n",
    "                normal((num_hiddens, num_hiddens)),\n",
    "                torch.zeros(num_hiddens, device=device))\n",
    "\n",
    "    W_xz, W_hz, b_z = three()  # 更新门参数\n",
    "    W_xr, W_hr, b_r = three()  # 重置门参数\n",
    "    W_xh, W_hh, b_h = three()  # 候选隐状态参数\n",
    "    # 输出层参数\n",
    "    W_hq = normal((num_hiddens, num_outputs))\n",
    "    b_q = torch.zeros(num_outputs, device=device)\n",
    "    # 附加梯度\n",
    "    params = [W_xz, W_hz, b_z, W_xr, W_hr, b_r, W_xh, W_hh, b_h, W_hq, b_q]\n",
    "    for param in params:\n",
    "        param.requires_grad_(True)\n",
    "    return params"
   ]
  },
  {
   "cell_type": "code",
   "execution_count": 3,
   "metadata": {},
   "outputs": [],
   "source": [
    "def init_gru_state(batch_size, num_hiddens, device):\n",
    "    return (torch.zeros((batch_size, num_hiddens), device=device), )"
   ]
  },
  {
   "cell_type": "code",
   "execution_count": 4,
   "metadata": {},
   "outputs": [],
   "source": [
    "def gru(inputs, state, params):\n",
    "    W_xz, W_hz, b_z, W_xr, W_hr, b_r, W_xh, W_hh, b_h, W_hq, b_q = params\n",
    "    H, = state\n",
    "    outputs = []\n",
    "    for X in inputs:\n",
    "        Z = torch.sigmoid((X @ W_xz) + (H @ W_hz) + b_z)\n",
    "        R = torch.sigmoid((X @ W_xr) + (H @ W_hr) + b_r)\n",
    "        H_tilda = torch.tanh((X @ W_xh) + ((R * H) @ W_hh) + b_h)\n",
    "        H = Z * H + (1 - Z) * H_tilda\n",
    "        Y = H @ W_hq + b_q\n",
    "        outputs.append(Y)\n",
    "    return torch.cat(outputs, dim=0), (H,)"
   ]
  },
  {
   "cell_type": "code",
   "execution_count": 1,
   "metadata": {},
   "outputs": [
    {
     "ename": "NameError",
     "evalue": "name 'vocab' is not defined",
     "output_type": "error",
     "traceback": [
      "\u001b[1;31m---------------------------------------------------------------------------\u001b[0m",
      "\u001b[1;31mNameError\u001b[0m                                 Traceback (most recent call last)",
      "Cell \u001b[1;32mIn[1], line 1\u001b[0m\n\u001b[1;32m----> 1\u001b[0m vocab_size, num_hiddens, device \u001b[38;5;241m=\u001b[39m \u001b[38;5;28mlen\u001b[39m(\u001b[43mvocab\u001b[49m), \u001b[38;5;241m256\u001b[39m, d2l\u001b[38;5;241m.\u001b[39mtry_gpu()\n\u001b[0;32m      2\u001b[0m num_epochs, lr \u001b[38;5;241m=\u001b[39m \u001b[38;5;241m500\u001b[39m, \u001b[38;5;241m1\u001b[39m\n\u001b[0;32m      3\u001b[0m model \u001b[38;5;241m=\u001b[39m d2l\u001b[38;5;241m.\u001b[39mRNNModelScratch(\u001b[38;5;28mlen\u001b[39m(vocab), num_hiddens, device, get_params,\n\u001b[0;32m      4\u001b[0m                             init_gru_state, gru)\n",
      "\u001b[1;31mNameError\u001b[0m: name 'vocab' is not defined"
     ]
    }
   ],
   "source": [
    "vocab_size, num_hiddens, device = len(vocab), 256, d2l.try_gpu()\n",
    "num_epochs, lr = 500, 1\n",
    "model = d2l.RNNModelScratch(len(vocab), num_hiddens, device, get_params,\n",
    "                            init_gru_state, gru)\n",
    "d2l.train_ch8(model, train_iter, vocab, lr, num_epochs, device)"
   ]
  },
  {
   "cell_type": "code",
   "execution_count": 10,
   "metadata": {},
   "outputs": [],
   "source": [
    "import torch\n",
    "from torch import nn\n",
    "class GRU(nn.Module):\n",
    "    def __init__(self, num_input, num_hidden, device):\n",
    "        super.__init__()\n",
    "        W_xz, W_hz, b_z = torch.normal(size=(num_input, num_hidden))*0.01, torch.normal(size=(num_hidden, num_hidden))*0.01, torch.zeros(size=num_hidden)\n",
    "        W_xr, W_hr, b_r = torch.normal(size=(num_input, num_hidden))*0.01, torch.normal(size=(num_hidden, num_hidden))*0.01, torch.zeros(size=num_hidden)\n",
    "        W_xh, W_hh, b_h = torch.normal(size=(num_input, num_hidden))*0.01, torch.normal(size=(num_hidden, num_hidden))*0.01, torch.zeros(size=num_hidden)\n",
    "        W_hq, b_q = torch.normal(size=(num_input, num_input)), torch.zeros(size=num_input)    \n",
    "        params = [W_xz, W_hz, b_z, W_xr, W_hr, b_r, W_xh, W_hh, b_h, W_hq, b_q]\n",
    "        for param in params:\n",
    "            param.requires_grad_(True)\n",
    "            param.to(device)\n",
    "    # def forward(self, X):\n",
    "        "
   ]
  },
  {
   "cell_type": "code",
   "execution_count": null,
   "metadata": {},
   "outputs": [],
   "source": []
  }
 ],
 "metadata": {
  "kernelspec": {
   "display_name": "Python 3",
   "language": "python",
   "name": "python3"
  },
  "language_info": {
   "codemirror_mode": {
    "name": "ipython",
    "version": 3
   },
   "file_extension": ".py",
   "mimetype": "text/x-python",
   "name": "python",
   "nbconvert_exporter": "python",
   "pygments_lexer": "ipython3",
   "version": "3.12.3"
  }
 },
 "nbformat": 4,
 "nbformat_minor": 2
}
