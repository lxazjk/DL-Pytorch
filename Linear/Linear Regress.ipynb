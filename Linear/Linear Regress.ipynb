{
 "cells": [
  {
   "cell_type": "markdown",
   "id": "74a1aefe-5cd6-4908-ba54-52c5c948bccb",
   "metadata": {},
   "source": [
    "# Linear Regression\n",
    "\n",
    "### todolist\n",
    "**线性回归 解析解**\n",
    "\n",
    "后续回来进行推导 虽然有解析解，但是我们为了真正通过神经网络训练得到一组数组，所以暂时不用\n",
    "\n",
    "$$\\hat{y} = \\mathbf{w}^\\top \\mathbf{x} + b.$$\n",
    "\n",
    "Given data pairs $[\\mathbf{x}, y]$, our objective is to accurately estimate the parameters $\\mathbf{w}$ and $b$.\n",
    "\n",
    "$$y = \\sum_{i=0}^m w_i x_i + b$$\n",
    "\n",
    "By employing Linear Regression, we can efficiently determine these parameters.\n",
    "\n",
    "To proceed, we first need to generate a dataset.\n",
    "\n",
    "### Generating Data"
   ]
  },
  {
   "cell_type": "code",
   "execution_count": 2,
   "id": "6ff43e3d-7f6d-4396-9fda-fb7817739c27",
   "metadata": {},
   "outputs": [],
   "source": [
    "%matplotlib inline\n",
    "import random\n",
    "import torch\n",
    "import matplotlib.pyplot as plt"
   ]
  },
  {
   "cell_type": "markdown",
   "id": "5137441d",
   "metadata": {},
   "source": [
    "#### what is normal\n",
    "torch.normal(mean, std, size)\n",
    "\n",
    "\n",
    "mean：分布的均值。可以是一个标量（单个值）或一个形状与 size 相匹配的张量。\n",
    "\n",
    "\n",
    "std：分布的标准差。同样可以是一个标量或一个形状与 size 相匹配的张量。\n",
    "\n",
    "\n",
    "size：指定输出张量的形状，是一个维度元组"
   ]
  },
  {
   "cell_type": "code",
   "execution_count": 3,
   "id": "723e9bf5-49b9-4d86-917e-5d5aacb0cfb0",
   "metadata": {},
   "outputs": [
    {
     "name": "stdout",
     "output_type": "stream",
     "text": [
      "X tensor([[1.2422, 0.9267],\n",
      "        [2.2927, 3.3978]]) \n",
      "y tensor([[ -5.4389],\n",
      "        [-19.6435]]) \n",
      "true_W tensor([ 6.0000, -8.3000]) \n",
      "true_B tensor(-5.2000) torch.Size([1000, 1])\n"
     ]
    }
   ],
   "source": [
    "def generate_data(w, b, num_examples) : \n",
    "    X = torch.normal(3, 1, (num_examples, len(w)))\n",
    "    y = torch.matmul(X, w) + b\n",
    "    y += torch.normal(0, 0.001, y.shape)\n",
    "    return X, y.reshape((-1, 1))# -1 is automatic calc for shape size\n",
    "\n",
    "true_W = torch.tensor([6.0, -8.3])\n",
    "true_B = torch.tensor(-5.2)\n",
    "X, y = generate_data(true_W, true_B, 2)\n",
    "features, labels = generate_data(true_W, true_B, 1000)\n",
    "print(\"X\", X, \"\\ny\", y, \"\\ntrue_W\", true_W, \"\\ntrue_B\", true_B, labels.shape)"
   ]
  },
  {
   "cell_type": "markdown",
   "id": "749d6a7f-9e1a-4d96-9501-f057195c6b5c",
   "metadata": {},
   "source": [
    "Now we have successfully generated the data.\n",
    "\n",
    "Using matplotlib to visually display the data."
   ]
  },
  {
   "cell_type": "code",
   "execution_count": 4,
   "id": "21279a6f-e0a5-4ed6-9139-eb6c5cd27f84",
   "metadata": {},
   "outputs": [
    {
     "data": {
      "text/plain": [
       "(tensor([3.1176, 3.3628]), tensor([-14.4069]))"
      ]
     },
     "execution_count": 4,
     "metadata": {},
     "output_type": "execute_result"
    },
    {
     "data": {
      "image/png": "[encoded data removed]",
      "text/plain": [
       "<Figure size 500x500 with 1 Axes>"
      ]
     },
     "metadata": {},
     "output_type": "display_data"
    }
   ],
   "source": [
    "plt.figure(figsize=(5, 5))\n",
    "plt.scatter(features[:,1].detach().numpy(), labels.detach().numpy(),1)\n",
    "features[0], labels[0]"
   ]
  },
  {
   "cell_type": "markdown",
   "id": "91c9e926-20d3-452c-86d9-9953362e9851",
   "metadata": {},
   "source": [
    "### Reading Data Set\n",
    "\n",
    "We choose the data iteratively, each time we get batch_size data as input.\n",
    "\n",
    "To ensure the quality of data, we use random.shuffle to shuffle the array."
   ]
  },
  {
   "cell_type": "code",
   "execution_count": 5,
   "id": "2056a12b-523a-4349-8846-7dd1149f9254",
   "metadata": {},
   "outputs": [
    {
     "name": "stdout",
     "output_type": "stream",
     "text": [
      "tensor([[2.3694, 0.1088],\n",
      "        [1.7407, 3.3660],\n",
      "        [1.5028, 3.0593],\n",
      "        [4.3838, 4.2380],\n",
      "        [3.3856, 5.2475],\n",
      "        [2.5310, 3.6083],\n",
      "        [2.5610, 3.2928],\n",
      "        [4.4050, 3.8311],\n",
      "        [2.0941, 1.2891],\n",
      "        [1.7463, 5.0171]]) \n",
      " tensor([[  8.1130],\n",
      "        [-22.6940],\n",
      "        [-21.5743],\n",
      "        [-14.0715],\n",
      "        [-28.4380],\n",
      "        [-19.9636],\n",
      "        [-17.1611],\n",
      "        [-10.5676],\n",
      "        [ -3.3351],\n",
      "        [-36.3646]])\n"
     ]
    }
   ],
   "source": [
    "def Choose(features, labels, batch_size):\n",
    "    num_examples = len(labels)\n",
    "    index = list(range(num_examples))\n",
    "    random.shuffle(index)\n",
    "    for i in range(0, num_examples, batch_size):\n",
    "        cur_index = index[i: min(i + batch_size, num_examples)]\n",
    "        yield features[cur_index], labels[cur_index]\n",
    "for x, y in Choose(features, labels, 10):\n",
    "    print(x, '\\n', y)\n",
    "    break"
   ]
  },
  {
   "cell_type": "markdown",
   "id": "c634ae4d-396b-4f05-9b6b-2160118da994",
   "metadata": {},
   "source": [
    "### Initialize the model"
   ]
  },
  {
   "cell_type": "code",
   "execution_count": 6,
   "id": "5be98987-e9cc-49d6-8d91-bf7ae6d42eb5",
   "metadata": {},
   "outputs": [],
   "source": [
    "def linear(X, w, b):\n",
    "    return torch.matmul(X, w) + b"
   ]
  },
  {
   "cell_type": "code",
   "execution_count": 7,
   "id": "648ce928-6de9-4c8f-a725-d7610b8050d3",
   "metadata": {},
   "outputs": [],
   "source": [
    "def square_loss(y, y_hat):\n",
    "    return (y - y_hat.reshape(y.shape)) ** 2 / 2"
   ]
  },
  {
   "cell_type": "markdown",
   "id": "874f9bea-5a7a-4c2d-96b1-ce78d086dfe4",
   "metadata": {},
   "source": [
    "### Defining the model\n"
   ]
  },
  {
   "cell_type": "code",
   "execution_count": 8,
   "id": "7a3fb141-d6e8-453a-b3f3-f5d073ff7488",
   "metadata": {},
   "outputs": [],
   "source": [
    "def sgd(params, learning_rate, batch_size):\n",
    "    #with torch.no_grad(): \n",
    "        for param in params:\n",
    "            param -= learning_rate * param.grad / batch_size\n",
    "            param.grad.zero_()"
   ]
  },
  {
   "cell_type": "code",
   "execution_count": 9,
   "id": "aeb92d40-6f64-4437-92ca-cf4f943e7ec5",
   "metadata": {},
   "outputs": [],
   "source": [
    "learning_rate = 0.03\n",
    "loss = square_loss\n",
    "net = linear\n",
    "batch_size = 10\n",
    "num_iterations = 100"
   ]
  },
  {
   "cell_type": "code",
   "execution_count": 13,
   "id": "0a8a0bfd-d46c-4080-82c0-a06a47999a9e",
   "metadata": {},
   "outputs": [
    {
     "name": "stdout",
     "output_type": "stream",
     "text": [
      "epoch 1, loss 0.445913 tensor([ 5.1214, -8.6068], requires_grad=True) \n",
      " tensor([-1.6118], requires_grad=True)\n",
      "epoch 2, loss 0.256761 tensor([ 5.4982, -8.7798], requires_grad=True) \n",
      " tensor([-2.1272], requires_grad=True)\n",
      "epoch 3, loss 0.202093 tensor([ 5.6076, -8.6933], requires_grad=True) \n",
      " tensor([-2.5591], requires_grad=True)\n",
      "epoch 4, loss 0.164198 tensor([ 5.6824, -8.6275], requires_grad=True) \n",
      " tensor([-2.9360], requires_grad=True)\n",
      "epoch 5, loss 0.104284 tensor([ 5.7133, -8.6010], requires_grad=True) \n",
      " tensor([-3.2683], requires_grad=True)\n",
      "epoch 6, loss 0.076637 tensor([ 5.7394, -8.5435], requires_grad=True) \n",
      " tensor([-3.5441], requires_grad=True)\n",
      "epoch 7, loss 0.054567 tensor([ 5.7785, -8.5242], requires_grad=True) \n",
      " tensor([-3.7833], requires_grad=True)\n",
      "epoch 8, loss 0.048318 tensor([ 5.8342, -8.4802], requires_grad=True) \n",
      " tensor([-3.9801], requires_grad=True)\n",
      "epoch 9, loss 0.029696 tensor([ 5.8266, -8.4655], requires_grad=True) \n",
      " tensor([-4.1629], requires_grad=True)\n",
      "epoch 10, loss 0.023639 tensor([ 5.8722, -8.4348], requires_grad=True) \n",
      " tensor([-4.3073], requires_grad=True)\n",
      "epoch 11, loss 0.015873 tensor([ 5.8826, -8.4199], requires_grad=True) \n",
      " tensor([-4.4378], requires_grad=True)\n",
      "epoch 12, loss 0.011747 tensor([ 5.8918, -8.3936], requires_grad=True) \n",
      " tensor([-4.5476], requires_grad=True)\n",
      "epoch 13, loss 0.008589 tensor([ 5.9111, -8.3935], requires_grad=True) \n",
      " tensor([-4.6429], requires_grad=True)\n",
      "epoch 14, loss 0.006209 tensor([ 5.9268, -8.3797], requires_grad=True) \n",
      " tensor([-4.7228], requires_grad=True)\n",
      "epoch 15, loss 0.004586 tensor([ 5.9354, -8.3624], requires_grad=True) \n",
      " tensor([-4.7909], requires_grad=True)\n",
      "epoch 16, loss 0.003321 tensor([ 5.9435, -8.3547], requires_grad=True) \n",
      " tensor([-4.8506], requires_grad=True)\n",
      "epoch 17, loss 0.002453 tensor([ 5.9512, -8.3450], requires_grad=True) \n",
      " tensor([-4.9003], requires_grad=True)\n",
      "epoch 18, loss 0.001805 tensor([ 5.9595, -8.3391], requires_grad=True) \n",
      " tensor([-4.9434], requires_grad=True)\n",
      "epoch 19, loss 0.001335 tensor([ 5.9662, -8.3381], requires_grad=True) \n",
      " tensor([-4.9812], requires_grad=True)\n",
      "epoch 20, loss 0.000974 tensor([ 5.9713, -8.3292], requires_grad=True) \n",
      " tensor([-5.0122], requires_grad=True)\n",
      "epoch 21, loss 0.000702 tensor([ 5.9747, -8.3257], requires_grad=True) \n",
      " tensor([-5.0395], requires_grad=True)\n",
      "epoch 22, loss 0.000549 tensor([ 5.9776, -8.3238], requires_grad=True) \n",
      " tensor([-5.0630], requires_grad=True)\n",
      "epoch 23, loss 0.000396 tensor([ 5.9825, -8.3179], requires_grad=True) \n",
      " tensor([-5.0823], requires_grad=True)\n",
      "epoch 24, loss 0.000282 tensor([ 5.9847, -8.3155], requires_grad=True) \n",
      " tensor([-5.0995], requires_grad=True)\n",
      "epoch 25, loss 0.000202 tensor([ 5.9865, -8.3142], requires_grad=True) \n",
      " tensor([-5.1143], requires_grad=True)\n",
      "epoch 26, loss 0.000151 tensor([ 5.9887, -8.3112], requires_grad=True) \n",
      " tensor([-5.1264], requires_grad=True)\n",
      "epoch 27, loss 0.000118 tensor([ 5.9890, -8.3103], requires_grad=True) \n",
      " tensor([-5.1374], requires_grad=True)\n",
      "epoch 28, loss 0.000080 tensor([ 5.9911, -8.3082], requires_grad=True) \n",
      " tensor([-5.1463], requires_grad=True)\n",
      "epoch 29, loss 0.000058 tensor([ 5.9930, -8.3076], requires_grad=True) \n",
      " tensor([-5.1541], requires_grad=True)\n",
      "epoch 30, loss 0.000043 tensor([ 5.9940, -8.3065], requires_grad=True) \n",
      " tensor([-5.1607], requires_grad=True)\n",
      "epoch 31, loss 0.000032 tensor([ 5.9949, -8.3054], requires_grad=True) \n",
      " tensor([-5.1664], requires_grad=True)\n",
      "epoch 32, loss 0.000024 tensor([ 5.9952, -8.3046], requires_grad=True) \n",
      " tensor([-5.1713], requires_grad=True)\n",
      "epoch 33, loss 0.000018 tensor([ 5.9963, -8.3036], requires_grad=True) \n",
      " tensor([-5.1754], requires_grad=True)\n",
      "epoch 34, loss 0.000013 tensor([ 5.9967, -8.3034], requires_grad=True) \n",
      " tensor([-5.1790], requires_grad=True)\n",
      "epoch 35, loss 0.000010 tensor([ 5.9973, -8.3027], requires_grad=True) \n",
      " tensor([-5.1820], requires_grad=True)\n",
      "epoch 36, loss 0.000007 tensor([ 5.9975, -8.3026], requires_grad=True) \n",
      " tensor([-5.1847], requires_grad=True)\n",
      "epoch 37, loss 0.000005 tensor([ 5.9979, -8.3020], requires_grad=True) \n",
      " tensor([-5.1869], requires_grad=True)\n",
      "epoch 38, loss 0.000004 tensor([ 5.9983, -8.3017], requires_grad=True) \n",
      " tensor([-5.1888], requires_grad=True)\n",
      "epoch 39, loss 0.000003 tensor([ 5.9986, -8.3015], requires_grad=True) \n",
      " tensor([-5.1904], requires_grad=True)\n",
      "epoch 40, loss 0.000002 tensor([ 5.9987, -8.3012], requires_grad=True) \n",
      " tensor([-5.1918], requires_grad=True)\n",
      "epoch 41, loss 0.000002 tensor([ 5.9988, -8.3012], requires_grad=True) \n",
      " tensor([-5.1930], requires_grad=True)\n",
      "epoch 42, loss 0.000002 tensor([ 5.9990, -8.3008], requires_grad=True) \n",
      " tensor([-5.1940], requires_grad=True)\n",
      "epoch 43, loss 0.000001 tensor([ 5.9991, -8.3008], requires_grad=True) \n",
      " tensor([-5.1949], requires_grad=True)\n",
      "epoch 44, loss 0.000001 tensor([ 5.9992, -8.3006], requires_grad=True) \n",
      " tensor([-5.1956], requires_grad=True)\n",
      "epoch 45, loss 0.000001 tensor([ 5.9994, -8.3006], requires_grad=True) \n",
      " tensor([-5.1963], requires_grad=True)\n",
      "epoch 46, loss 0.000001 tensor([ 5.9996, -8.3004], requires_grad=True) \n",
      " tensor([-5.1968], requires_grad=True)\n",
      "epoch 47, loss 0.000001 tensor([ 5.9996, -8.3004], requires_grad=True) \n",
      " tensor([-5.1973], requires_grad=True)\n",
      "epoch 48, loss 0.000001 tensor([ 5.9996, -8.3003], requires_grad=True) \n",
      " tensor([-5.1977], requires_grad=True)\n",
      "epoch 49, loss 0.000001 tensor([ 5.9997, -8.3003], requires_grad=True) \n",
      " tensor([-5.1981], requires_grad=True)\n",
      "epoch 50, loss 0.000001 tensor([ 5.9997, -8.3003], requires_grad=True) \n",
      " tensor([-5.1984], requires_grad=True)\n",
      "epoch 51, loss 0.000001 tensor([ 5.9998, -8.3002], requires_grad=True) \n",
      " tensor([-5.1986], requires_grad=True)\n",
      "epoch 52, loss 0.000001 tensor([ 5.9998, -8.3002], requires_grad=True) \n",
      " tensor([-5.1988], requires_grad=True)\n",
      "epoch 53, loss 0.000001 tensor([ 5.9998, -8.3001], requires_grad=True) \n",
      " tensor([-5.1990], requires_grad=True)\n",
      "epoch 54, loss 0.000001 tensor([ 5.9999, -8.3001], requires_grad=True) \n",
      " tensor([-5.1992], requires_grad=True)\n",
      "epoch 55, loss 0.000001 tensor([ 5.9999, -8.3001], requires_grad=True) \n",
      " tensor([-5.1993], requires_grad=True)\n",
      "epoch 56, loss 0.000001 tensor([ 5.9999, -8.3000], requires_grad=True) \n",
      " tensor([-5.1994], requires_grad=True)\n",
      "epoch 57, loss 0.000001 tensor([ 5.9999, -8.3001], requires_grad=True) \n",
      " tensor([-5.1995], requires_grad=True)\n",
      "epoch 58, loss 0.000001 tensor([ 5.9999, -8.3001], requires_grad=True) \n",
      " tensor([-5.1996], requires_grad=True)\n",
      "epoch 59, loss 0.000001 tensor([ 6.0000, -8.3000], requires_grad=True) \n",
      " tensor([-5.1997], requires_grad=True)\n",
      "epoch 60, loss 0.000001 tensor([ 5.9999, -8.3001], requires_grad=True) \n",
      " tensor([-5.1998], requires_grad=True)\n",
      "epoch 61, loss 0.000001 tensor([ 6.0000, -8.3000], requires_grad=True) \n",
      " tensor([-5.1998], requires_grad=True)\n",
      "epoch 62, loss 0.000001 tensor([ 6.0000, -8.3000], requires_grad=True) \n",
      " tensor([-5.1999], requires_grad=True)\n",
      "epoch 63, loss 0.000001 tensor([ 6.0000, -8.3000], requires_grad=True) \n",
      " tensor([-5.1999], requires_grad=True)\n",
      "epoch 64, loss 0.000001 tensor([ 6.0000, -8.3000], requires_grad=True) \n",
      " tensor([-5.2000], requires_grad=True)\n",
      "epoch 65, loss 0.000001 tensor([ 6.0000, -8.2999], requires_grad=True) \n",
      " tensor([-5.2000], requires_grad=True)\n",
      "epoch 66, loss 0.000001 tensor([ 6.0000, -8.2999], requires_grad=True) \n",
      " tensor([-5.2000], requires_grad=True)\n",
      "epoch 67, loss 0.000001 tensor([ 6.0000, -8.3000], requires_grad=True) \n",
      " tensor([-5.2000], requires_grad=True)\n",
      "epoch 68, loss 0.000001 tensor([ 5.9999, -8.3000], requires_grad=True) \n",
      " tensor([-5.2001], requires_grad=True)\n",
      "epoch 69, loss 0.000001 tensor([ 6.0000, -8.2999], requires_grad=True) \n",
      " tensor([-5.2000], requires_grad=True)\n",
      "epoch 70, loss 0.000001 tensor([ 6.0000, -8.2999], requires_grad=True) \n",
      " tensor([-5.2001], requires_grad=True)\n",
      "epoch 71, loss 0.000001 tensor([ 6.0000, -8.3000], requires_grad=True) \n",
      " tensor([-5.2001], requires_grad=True)\n",
      "epoch 72, loss 0.000001 tensor([ 6.0000, -8.3000], requires_grad=True) \n",
      " tensor([-5.2001], requires_grad=True)\n",
      "epoch 73, loss 0.000001 tensor([ 6.0000, -8.3000], requires_grad=True) \n",
      " tensor([-5.2001], requires_grad=True)\n",
      "epoch 74, loss 0.000001 tensor([ 6.0000, -8.3000], requires_grad=True) \n",
      " tensor([-5.2001], requires_grad=True)\n",
      "epoch 75, loss 0.000001 tensor([ 5.9999, -8.3000], requires_grad=True) \n",
      " tensor([-5.2001], requires_grad=True)\n",
      "epoch 76, loss 0.000001 tensor([ 6.0000, -8.3000], requires_grad=True) \n",
      " tensor([-5.2001], requires_grad=True)\n",
      "epoch 77, loss 0.000001 tensor([ 6.0001, -8.2999], requires_grad=True) \n",
      " tensor([-5.2001], requires_grad=True)\n",
      "epoch 78, loss 0.000001 tensor([ 6.0001, -8.3000], requires_grad=True) \n",
      " tensor([-5.2001], requires_grad=True)\n",
      "epoch 79, loss 0.000001 tensor([ 6.0000, -8.3000], requires_grad=True) \n",
      " tensor([-5.2001], requires_grad=True)\n",
      "epoch 80, loss 0.000001 tensor([ 6.0000, -8.3000], requires_grad=True) \n",
      " tensor([-5.2001], requires_grad=True)\n",
      "epoch 81, loss 0.000001 tensor([ 6.0000, -8.3000], requires_grad=True) \n",
      " tensor([-5.2001], requires_grad=True)\n",
      "epoch 82, loss 0.000001 tensor([ 6.0000, -8.3000], requires_grad=True) \n",
      " tensor([-5.2001], requires_grad=True)\n",
      "epoch 83, loss 0.000001 tensor([ 6.0000, -8.3000], requires_grad=True) \n",
      " tensor([-5.2001], requires_grad=True)\n",
      "epoch 84, loss 0.000001 tensor([ 6.0000, -8.3000], requires_grad=True) \n",
      " tensor([-5.2002], requires_grad=True)\n",
      "epoch 85, loss 0.000001 tensor([ 6.0000, -8.2999], requires_grad=True) \n",
      " tensor([-5.2001], requires_grad=True)\n",
      "epoch 86, loss 0.000001 tensor([ 5.9999, -8.3000], requires_grad=True) \n",
      " tensor([-5.2002], requires_grad=True)\n",
      "epoch 87, loss 0.000001 tensor([ 6.0001, -8.2999], requires_grad=True) \n",
      " tensor([-5.2001], requires_grad=True)\n",
      "epoch 88, loss 0.000001 tensor([ 6.0000, -8.3000], requires_grad=True) \n",
      " tensor([-5.2001], requires_grad=True)\n",
      "epoch 89, loss 0.000001 tensor([ 5.9999, -8.2999], requires_grad=True) \n",
      " tensor([-5.2002], requires_grad=True)\n",
      "epoch 90, loss 0.000001 tensor([ 6.0000, -8.3000], requires_grad=True) \n",
      " tensor([-5.2002], requires_grad=True)\n",
      "epoch 91, loss 0.000001 tensor([ 6.0000, -8.2999], requires_grad=True) \n",
      " tensor([-5.2001], requires_grad=True)\n",
      "epoch 92, loss 0.000001 tensor([ 6.0000, -8.3000], requires_grad=True) \n",
      " tensor([-5.2002], requires_grad=True)\n",
      "epoch 93, loss 0.000001 tensor([ 6.0000, -8.3000], requires_grad=True) \n",
      " tensor([-5.2002], requires_grad=True)\n",
      "epoch 94, loss 0.000001 tensor([ 6.0000, -8.3000], requires_grad=True) \n",
      " tensor([-5.2002], requires_grad=True)\n",
      "epoch 95, loss 0.000001 tensor([ 6.0001, -8.2999], requires_grad=True) \n",
      " tensor([-5.2001], requires_grad=True)\n",
      "epoch 96, loss 0.000001 tensor([ 6.0000, -8.3000], requires_grad=True) \n",
      " tensor([-5.2002], requires_grad=True)\n",
      "epoch 97, loss 0.000001 tensor([ 6.0000, -8.3000], requires_grad=True) \n",
      " tensor([-5.2002], requires_grad=True)\n",
      "epoch 98, loss 0.000001 tensor([ 6.0000, -8.3000], requires_grad=True) \n",
      " tensor([-5.2002], requires_grad=True)\n",
      "epoch 99, loss 0.000001 tensor([ 6.0000, -8.2999], requires_grad=True) \n",
      " tensor([-5.2002], requires_grad=True)\n",
      "epoch 100, loss 0.000001 tensor([ 6.0000, -8.3000], requires_grad=True) \n",
      " tensor([-5.2002], requires_grad=True)\n"
     ]
    }
   ],
   "source": [
    "w = torch.normal(0, 1, true_W.shape, requires_grad=True)\n",
    "b = torch.zeros(1, requires_grad=True)\n",
    "w, b\n",
    "for iterator in range(num_iterations):\n",
    "    for X, y in Choose(features, labels, batch_size):\n",
    "        l = loss(net(X, w, b), y)\n",
    "        l.sum().backward()\n",
    "        with torch.no_grad():\n",
    "            sgd([w, b], learning_rate, batch_size)\n",
    "    with torch.no_grad():\n",
    "        # print(w, ' ', true_W, '\\n' , b, ' ' , true_B, '\\n')\n",
    "        train_l = loss(net(features, w, b), labels)\n",
    "        print(f'epoch {iterator + 1}, loss {float(train_l.mean()):f}', w, '\\n', b)"
   ]
  }
 ],
 "metadata": {
  "kernelspec": {
   "display_name": "Python 3 (ipykernel)",
   "language": "python",
   "name": "python3"
  },
  "language_info": {
   "codemirror_mode": {
    "name": "ipython",
    "version": 3
   },
   "file_extension": ".py",
   "mimetype": "text/x-python",
   "name": "python",
   "nbconvert_exporter": "python",
   "pygments_lexer": "ipython3",
   "version": "3.12.3"
  }
 },
 "nbformat": 4,
 "nbformat_minor": 5
}
