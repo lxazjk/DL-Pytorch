{
 "cells": [
  {
   "cell_type": "markdown",
   "id": "b684f58e",
   "metadata": {},
   "source": [
    "# 线性回归 简洁实现\n",
    "\n",
    "首先 我们导入必要的库函数\n",
    "\n",
    "ps:torch.utils.data 模块提供了数据加载到模型的工具，如 Dataset 和 DataLoader 类，帮助用户高效地迭代和处理大型数据集。"
   ]
  },
  {
   "cell_type": "code",
   "execution_count": 1,
   "id": "2a0d2c9e",
   "metadata": {},
   "outputs": [],
   "source": [
    "import torch\n",
    "from torch import nn\n",
    "from d2l import torch as d2l\n",
    "from torch.utils import data\n",
    "import numpy as np"
   ]
  },
  {
   "cell_type": "code",
   "execution_count": 6,
   "id": "eec6a020",
   "metadata": {},
   "outputs": [
    {
     "data": {
      "text/plain": [
       "(tensor([5.2000, 3.1000]), tensor([3]))"
      ]
     },
     "execution_count": 6,
     "metadata": {},
     "output_type": "execute_result"
    }
   ],
   "source": [
    "true_b = torch.tensor([3])\n",
    "true_w = torch.tensor([5.2, 3.1])\n",
    "features, labels = d2l.synthetic_data(true_w, true_b, 1000)\n",
    "true_w, true_b"
   ]
  },
  {
   "cell_type": "code",
   "execution_count": 105,
   "id": "2e17d30e",
   "metadata": {},
   "outputs": [
    {
     "data": {
      "text/plain": [
       "[tensor([[ 1.3222,  0.0063],\n",
       "         [ 0.4284,  0.8522],\n",
       "         [ 0.6102, -1.3927],\n",
       "         [-0.8808,  0.1120],\n",
       "         [-0.3422,  0.7647],\n",
       "         [-1.4106, -0.7840],\n",
       "         [ 0.2117,  0.0544],\n",
       "         [-0.4227,  0.4994],\n",
       "         [-2.0795, -0.6959],\n",
       "         [-0.3908,  0.4869]]),\n",
       " tensor([[ 9.8852],\n",
       "         [ 7.8553],\n",
       "         [ 1.8590],\n",
       "         [-1.2408],\n",
       "         [ 3.6040],\n",
       "         [-6.7581],\n",
       "         [ 4.2801],\n",
       "         [ 2.3587],\n",
       "         [-9.9696],\n",
       "         [ 2.4694]])]"
      ]
     },
     "execution_count": 105,
     "metadata": {},
     "output_type": "execute_result"
    }
   ],
   "source": [
    "def load_array(data_arrays, batch_size, is_train=True):  #@save\n",
    "    \"\"\"构造一个PyTorch数据迭代器\"\"\"\n",
    "    dataset = data.TensorDataset(*data_arrays)\n",
    "    return data.DataLoader(dataset, batch_size, shuffle=is_train)\n",
    "\n",
    "batch_size = 10\n",
    "data_iter = load_array((features, labels), batch_size)\n",
    "\n",
    "next(iter(data_iter))"
   ]
  },
  {
   "cell_type": "code",
   "execution_count": 33,
   "id": "72dce578",
   "metadata": {},
   "outputs": [
    {
     "name": "stdout",
     "output_type": "stream",
     "text": [
      "Parameter containing:\n",
      "tensor([[1., 1., 1., 1., 1., 1., 1., 1., 1., 1.],\n",
      "        [1., 1., 1., 1., 1., 1., 1., 1., 1., 1.],\n",
      "        [1., 1., 1., 1., 1., 1., 1., 1., 1., 1.],\n",
      "        [1., 1., 1., 1., 1., 1., 1., 1., 1., 1.],\n",
      "        [1., 1., 1., 1., 1., 1., 1., 1., 1., 1.]], requires_grad=True)\n",
      "tensor([1, 1, 1, 1, 1, 1, 1, 1, 1, 1])\n",
      "tensor([[-0.9931,  1.5926,  0.0965, -0.6080,  2.2544,  0.2710,  0.0412, -0.5330,\n",
      "         -0.0174,  1.7859]])\n",
      "tensor(3.8902)\n",
      "tensor([[3.8902, 3.8902, 3.8902, 3.8902, 3.8902]], grad_fn=<AddmmBackward0>)\n"
     ]
    }
   ],
   "source": [
    "import torch.nn as nn\n",
    "# 创建一个简单的序列模型\n",
    "model = nn.Sequential(\n",
    "    nn.Linear(10, 5),\n",
    "    nn.ReLU(),\n",
    "    nn.Linear(5, 2)\n",
    ")\n",
    "\n",
    "#从 PyTorch 1.2 开始，你还可以在 nn.Sequential 中使用 OrderedDict 来给每一层指定一个名称，这有助于未来对模型的每一层进行访问或修改：\n",
    "from collections import OrderedDict\n",
    "model = nn.Sequential(OrderedDict([\n",
    "    ('linear1', nn.Linear(10, 5)),\n",
    "    ('relu', nn.ReLU()),\n",
    "    ('linear2', nn.Linear(5, 2))\n",
    "]))\n",
    "\n",
    "# 访问第一个线性层的权重\n",
    "print(model.linear1.weight)\n",
    "\n",
    "#你也可以先创建一个空的 nn.Sequential 对象，然后逐一添加层：\n",
    "model = nn.Sequential()\n",
    "model.add_module('linear1', nn.Linear(10, 5))\n",
    "model.add_module('relu', nn.ReLU())\n",
    "model.add_module('linear2', nn.Linear(5, 2))\n",
    "\n",
    "#一旦模型被定义，就可以像使用普通的 PyTorch 模型一样使用它，包括传递输入数据进行前向传播：\n",
    "import torch\n",
    "# 创建输入张量\n",
    "input_tensor = torch.randn(1, 10)  # 假设批量大小为1\n",
    "# 使用模型进行前向传播\n",
    "output = model(input_tensor)\n",
    "print(output)\n"
   ]
  },
  {
   "cell_type": "code",
   "execution_count": 106,
   "id": "29ba45cb",
   "metadata": {},
   "outputs": [],
   "source": [
    "model = nn.Sequential(nn.Linear(2,  1))\n",
    "model[0].weight.data.normal_(3, 1000)\n",
    "model[0].bias.data.fill_(0)\n",
    "model[0].weight, model[0].bias\n",
    "\n",
    "trainer = torch.optim.SGD(model.parameters(), lr=0.03)\n",
    "loss = nn.MSELoss()"
   ]
  },
  {
   "cell_type": "code",
   "execution_count": 107,
   "id": "295561bf",
   "metadata": {},
   "outputs": [
    {
     "name": "stdout",
     "output_type": "stream",
     "text": [
      "epoch 1, loss 0.141492\n",
      "epoch 2, loss 0.000094\n",
      "epoch 3, loss 0.000095\n",
      "epoch 4, loss 0.000095\n",
      "epoch 5, loss 0.000094\n",
      "epoch 6, loss 0.000094\n",
      "epoch 7, loss 0.000094\n",
      "epoch 8, loss 0.000094\n",
      "epoch 9, loss 0.000095\n",
      "epoch 10, loss 0.000095\n",
      "tensor([[5.1995, 3.0989]]) tensor([3.0003])\n"
     ]
    }
   ],
   "source": [
    "num_epoch = 10\n",
    "for i in range(num_epoch):\n",
    "    for x, y in data_iter:\n",
    "        l = loss(model(x), y)\n",
    "        trainer.zero_grad()\n",
    "        l.backward()\n",
    "        trainer.step()\n",
    "    l = loss(model(features), labels)\n",
    "    print(f'epoch {i + 1}, loss {l:f}')\n",
    "print(model[0].weight.data, model[0].bias.data)"
   ]
  }
 ],
 "metadata": {
  "kernelspec": {
   "display_name": "Python 3 (ipykernel)",
   "language": "python",
   "name": "python3"
  },
  "language_info": {
   "codemirror_mode": {
    "name": "ipython",
    "version": 3
   },
   "file_extension": ".py",
   "mimetype": "text/x-python",
   "name": "python",
   "nbconvert_exporter": "python",
   "pygments_lexer": "ipython3",
   "version": "3.12.3"
  }
 },
 "nbformat": 4,
 "nbformat_minor": 5
}
