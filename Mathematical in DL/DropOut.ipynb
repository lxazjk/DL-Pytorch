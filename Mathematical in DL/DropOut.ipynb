{
 "cells": [
  {
   "cell_type": "markdown",
   "id": "c809dd68",
   "metadata": {},
   "source": [
    "## 暂退法\n",
    "\n",
    "在训练的过程中 `dropout`层元素有概率变成0。\n",
    "\n",
    "在训练得到参数后 `dropout`层负责传输元素\n",
    "\n",
    "### 数学证明\n",
    "\n",
    "to be done\n",
    "\n",
    "### 代码实现"
   ]
  },
  {
   "cell_type": "code",
   "execution_count": 1,
   "id": "74b7ce67",
   "metadata": {},
   "outputs": [],
   "source": [
    "import torch\n",
    "from torch import nn\n",
    "from d2l import torch as d2l"
   ]
  },
  {
   "cell_type": "code",
   "execution_count": 6,
   "id": "1b65abfe",
   "metadata": {},
   "outputs": [],
   "source": [
    "dropout1 = 0.2 \n",
    "dropout2 = 0.5\n",
    "num_inputs, num_outputs, num_hiddens1, num_hiddens2 = 784, 10, 256, 256\n",
    "lr = 0.01\n",
    "net = nn.Sequential(nn.Flatten(),\n",
    "        nn.Linear(784, 256),\n",
    "        nn.ReLU(),\n",
    "        # 在第一个全连接层之后添加一个dropout层\n",
    "        nn.Dropout(dropout1),\n",
    "        nn.Linear(256, 256),\n",
    "        nn.ReLU(),\n",
    "        # 在第二个全连接层之后添加一个dropout层\n",
    "        nn.Dropout(dropout2),\n",
    "        nn.Linear(256, 10))"
   ]
  }
 ],
 "metadata": {
  "kernelspec": {
   "display_name": "Python 3 (ipykernel)",
   "language": "python",
   "name": "python3"
  },
  "language_info": {
   "codemirror_mode": {
    "name": "ipython",
    "version": 3
   },
   "file_extension": ".py",
   "mimetype": "text/x-python",
   "name": "python",
   "nbconvert_exporter": "python",
   "pygments_lexer": "ipython3",
   "version": "3.12.3"
  }
 },
 "nbformat": 4,
 "nbformat_minor": 5
}
